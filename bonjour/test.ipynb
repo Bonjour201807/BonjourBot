{
 "cells": [
  {
   "cell_type": "code",
   "execution_count": 1,
   "metadata": {
    "collapsed": true
   },
   "outputs": [],
   "source": [
    "def test(a:dict,b:str)->str:\n",
    "    '''\n",
    "    alsdf\n",
    "    :param a: asdf\n",
    "    :param b: asdf\n",
    "    :return: adfadsf\n",
    "    '''\n",
    "    for i in range(10):\n",
    "        print(a,b)"
   ]
  },
  {
   "cell_type": "code",
   "execution_count": null,
   "metadata": {},
   "outputs": [],
   "source": [
    "# -*- coding:utf-8 -*-\n",
    "\n",
    "from bonjour.ner.time_task.TimeNormalizer import TimeNormalizer # 引入包\n",
    "\n",
    "tn = TimeNormalizer()\n",
    "\n",
    "res = tn.parse(target='大后天') # target为待分析语句，timeBase为基准时间默认是当前时间\n",
    "print(res)\n",
    "\n",
    "res = tn.parse(target='2013年二月二十八日下午四点三十分二十九秒') # target为待分析语句，timeBase为基准时间默认是当前时间\n",
    "print(res)\n",
    "\n",
    "res = tn.parse(target='我需要大概33天2分钟') # target为待分析语句，timeBase为基准时间默认是当前时间\n",
    "print(res)\n",
    "\n",
    "res = tn.parse(target='十一月') # target为待分析语句，timeBase为基准时间默认是当前时间\n",
    "print(res)"
   ]
  }
 ],
 "metadata": {
  "kernelspec": {
   "display_name": "Python 2",
   "language": "python",
   "name": "python2"
  },
  "language_info": {
   "codemirror_mode": {
    "name": "ipython",
    "version": 2
   },
   "file_extension": ".py",
   "mimetype": "text/x-python",
   "name": "python",
   "nbconvert_exporter": "python",
   "pygments_lexer": "ipython2",
   "version": "2.7.6"
  }
 },
 "nbformat": 4,
 "nbformat_minor": 0
}
